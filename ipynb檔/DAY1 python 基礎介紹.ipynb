{
 "cells": [
  {
   "cell_type": "markdown",
   "metadata": {},
   "source": [
    "### 2020/11/2 程式語言概論"
   ]
  },
  {
   "cell_type": "markdown",
   "metadata": {},
   "source": [
    "### 1. 安裝Thonny(Python IDE)\n",
    "###2. Python有動態識別系統(不用特別定義類別int、float)\n",
    "###3. Python有垃圾回收功能，控管記憶體\n",
    "###4. Python是直譯式程式語言(上==>下、左==>右 看一行執行一行)\n",
    "####   C、C++ 有編譯器Compiler：程式寫完經過編譯器編譯成執行檔(整段程式看完)，完成後執行\n",
    "###5. \"#\" 是註解(每個程式都不一樣)"
   ]
  },
  {
   "cell_type": "code",
   "execution_count": 1,
   "metadata": {},
   "outputs": [
    {
     "name": "stdout",
     "output_type": "stream",
     "text": [
      "Hello\n"
     ]
    }
   ],
   "source": [
    "# \"\" 是字串\n",
    "print(\"Hello\")\n",
    "\n",
    "#print(Hello) Hello為變數，沒有定義會產生錯誤"
   ]
  },
  {
   "cell_type": "markdown",
   "metadata": {},
   "source": [
    "6. 變數\n",
    "    x = 1(正確的)  1 = x(錯誤的)\n",
    "    x 為變數 ，1 為內容\n",
    "7. 變數型態type()\n",
    "    整數int(5)\n",
    "    浮點數float(5.0)\n",
    "    複數complex(2+3j)\n",
    "    字串str(\"5\")\n",
    "8. 記憶體位置\n",
    "    x = 1\n",
    "    id(x) =7698064(記憶體的位置)\n",
    "    當記憶體位置衝突==>當機\n",
    "    控制記憶體的位置(指標)==>檔案小、效率高"
   ]
  },
  {
   "cell_type": "code",
   "execution_count": 7,
   "metadata": {},
   "outputs": [
    {
     "name": "stdout",
     "output_type": "stream",
     "text": [
      "成本:50\n",
      "價格:30\n",
      "訂單:12\n",
      "\n",
      "淨利: -240\n"
     ]
    }
   ],
   "source": [
    "#example 1 \n",
    "ShoesCost =  int(input(\"成本:\"))#輸入\n",
    "MarketPrice = int(input(\"價格:\"))#輸入\n",
    "Order = int(input(\"訂單:\"))#輸入\n",
    "\n",
    "ShoesProfit = (MarketPrice-ShoesCost)*Order#運算\n",
    "print()\n",
    "print(\"淨利:\",ShoesProfit)#顯示結果\n",
    "\n",
    "#int()轉整數\n",
    "#int(20) >>> 20 (無條件捨去)\n",
    "#input 輸入\n",
    "#print(\"___字串____\",數字) >>> ___字串___數字"
   ]
  },
  {
   "cell_type": "markdown",
   "metadata": {},
   "source": [
    "9.  變數的大小寫是不同的變數\n",
    "10. \" \" 和 ' ' 都代表字串(以 \" \" 為優先)\n",
    "11. 能夠寫成一行指令的語言都有個特色：結束符號(;)\n",
    "    沒有結束符號的程式語言就不能寫成一行"
   ]
  },
  {
   "cell_type": "markdown",
   "metadata": {},
   "source": [
    "12. 數列 tuple (內容與性質固定，不能修改)\n",
    "    x = (1,2,3)\n",
    "13. 數列 list (內容與性質可以改變)\n",
    "    x = [1,2,3]\n",
    "14. 數列的排列從0開始排列\n",
    "    x[0] = 1\n",
    "    x[1] = 1\n",
    "    x[2] = 1"
   ]
  },
  {
   "cell_type": "code",
   "execution_count": 1,
   "metadata": {},
   "outputs": [
    {
     "name": "stdout",
     "output_type": "stream",
     "text": [
      "[1, 3, 3]\n"
     ]
    }
   ],
   "source": [
    "# list \n",
    "x = [1,2,3]\n",
    "x[1] = 3\n",
    "print(x)"
   ]
  },
  {
   "cell_type": "code",
   "execution_count": 2,
   "metadata": {},
   "outputs": [
    {
     "ename": "TypeError",
     "evalue": "'tuple' object does not support item assignment",
     "output_type": "error",
     "traceback": [
      "\u001b[1;31m---------------------------------------------------------------------------\u001b[0m",
      "\u001b[1;31mTypeError\u001b[0m                                 Traceback (most recent call last)",
      "\u001b[1;32m<ipython-input-2-247963c14f66>\u001b[0m in \u001b[0;36m<module>\u001b[1;34m()\u001b[0m\n\u001b[0;32m      1\u001b[0m \u001b[1;31m#tuple\u001b[0m\u001b[1;33m\u001b[0m\u001b[1;33m\u001b[0m\u001b[0m\n\u001b[0;32m      2\u001b[0m \u001b[0mx\u001b[0m \u001b[1;33m=\u001b[0m \u001b[1;33m(\u001b[0m\u001b[1;36m1\u001b[0m\u001b[1;33m,\u001b[0m\u001b[1;36m2\u001b[0m\u001b[1;33m,\u001b[0m\u001b[1;36m3\u001b[0m\u001b[1;33m)\u001b[0m\u001b[1;33m\u001b[0m\u001b[0m\n\u001b[1;32m----> 3\u001b[1;33m \u001b[0mx\u001b[0m\u001b[1;33m[\u001b[0m\u001b[1;36m1\u001b[0m\u001b[1;33m]\u001b[0m \u001b[1;33m=\u001b[0m \u001b[1;36m3\u001b[0m\u001b[1;33m\u001b[0m\u001b[0m\n\u001b[0m\u001b[0;32m      4\u001b[0m \u001b[0mprint\u001b[0m\u001b[1;33m(\u001b[0m\u001b[0mx\u001b[0m\u001b[1;33m)\u001b[0m\u001b[1;33m\u001b[0m\u001b[0m\n",
      "\u001b[1;31mTypeError\u001b[0m: 'tuple' object does not support item assignment"
     ]
    }
   ],
   "source": [
    "#tuple(會產生錯誤)\n",
    "x = (1,2,3)\n",
    "x[1] = 3\n",
    "print(x)"
   ]
  },
  {
   "cell_type": "markdown",
   "metadata": {},
   "source": [
    "15. 別人寫好的程式碼匯入到自己的程式碼來用==>函式庫 Library(import)\n",
    "16. Data mining(資料探勘)==>Big data\n",
    "    (找出過去直覺上沒有的東西)\n",
    "17. 程式碼沒有智慧財產權(軟體才有)"
   ]
  },
  {
   "cell_type": "markdown",
   "metadata": {},
   "source": [
    "18. import numpy (導入函式庫)\n",
    "    import numpy as np (導入函式庫並縮寫)\n",
    "    from numpy import pi (從函式庫導入物件)"
   ]
  },
  {
   "cell_type": "markdown",
   "metadata": {},
   "source": [
    "19. if 條件1:           (假如)\n",
    "        符合條件的執行程式\n",
    "    elif 條件2:         (否則又假如)\n",
    "        符合條件的執行程式\n",
    "    else:               (否則)\n",
    "        其餘條件以外者的執行程式"
   ]
  },
  {
   "cell_type": "code",
   "execution_count": 5,
   "metadata": {},
   "outputs": [
    {
     "name": "stdout",
     "output_type": "stream",
     "text": [
      "0.19230769230769232 0.19230769230769232\n"
     ]
    }
   ],
   "source": [
    "#example 2 \n",
    "cookie = \"10\"#字串\n",
    "number = 10 /(5*int(cookie)+2)#先將字串轉成整數在運算\n",
    "print(number,10/52)"
   ]
  },
  {
   "cell_type": "markdown",
   "metadata": {},
   "source": [
    "20. 運算子功能\n",
    "    + 加  a+b = 15\n",
    "    - 減  a-b = 5\n",
    "    * 乘  a*b = 50\n",
    "    / 除  a/b = 2\n",
    "    // 整除除法(取商) a//b = 2\n",
    "    % 取餘數 a%b = 0"
   ]
  },
  {
   "cell_type": "code",
   "execution_count": 9,
   "metadata": {},
   "outputs": [
    {
     "name": "stdout",
     "output_type": "stream",
     "text": [
      "please input : 2.335\n",
      "\n",
      "2.335 2.335\n"
     ]
    }
   ],
   "source": [
    "# eval function\n",
    "# eval(str) 將字串中數學表示方式以數學去表示\n",
    "r = input(\"please input : \")\n",
    "print()\n",
    "print(eval(r) , float(r))#將字串轉成數字"
   ]
  }
 ],
 "metadata": {
  "kernelspec": {
   "display_name": "Python 3",
   "language": "python",
   "name": "python3"
  },
  "language_info": {
   "codemirror_mode": {
    "name": "ipython",
    "version": 3
   },
   "file_extension": ".py",
   "mimetype": "text/x-python",
   "name": "python",
   "nbconvert_exporter": "python",
   "pygments_lexer": "ipython3",
   "version": "3.6.5"
  }
 },
 "nbformat": 4,
 "nbformat_minor": 2
}
