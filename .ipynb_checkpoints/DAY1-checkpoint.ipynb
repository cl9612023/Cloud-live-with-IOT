{
 "cells": [
  {
   "cell_type": "markdown",
   "metadata": {},
   "source": [
    "2020/11/2 程式語言概論"
   ]
  },
  {
   "cell_type": "markdown",
   "metadata": {},
   "source": [
    "1. 安裝Thonny(Python IDE)\n",
    "2. Python有動態識別系統(不用特別定義類別int、float)\n",
    "3. Python有垃圾回收功能，控管記憶體\n",
    "4. Python是直譯式程式語言(上==>下、左==>右 看一行執行一行)\n",
    "   C、C++ 有編譯器Compiler：程式寫完經過編譯器編譯成執行檔(整段程式看完)，完成後執行\n",
    "5. # 是註解"
   ]
  },
  {
   "cell_type": "code",
   "execution_count": 1,
   "metadata": {},
   "outputs": [
    {
     "name": "stdout",
     "output_type": "stream",
     "text": [
      "Hello\n"
     ]
    }
   ],
   "source": [
    "# \"\" 是字串\n",
    "print(\"Hello\")\n",
    "\n",
    "#print(Hello) Hello為變數，沒有定義會產生錯誤"
   ]
  },
  {
   "cell_type": "markdown",
   "metadata": {},
   "source": [
    "6. 變數\n",
    "x = 1(正確的)  1 = x(錯誤的)\n",
    "x 為變數 ，1 為內容\n",
    "7. 變數型態type()\n",
    "整數int(5)\n",
    "浮點數float(5.0)\n",
    "複數complex(2+3j)\n",
    "字串str(\"5\")\n",
    "8. 記憶體位置\n",
    "x = 1\n",
    "id(x) ="
   ]
  },
  {
   "cell_type": "code",
   "execution_count": 2,
   "metadata": {},
   "outputs": [
    {
     "name": "stdout",
     "output_type": "stream",
     "text": [
      "成本:10\n",
      "價格:20\n",
      "訂單:5\n",
      "淨利: 50\n"
     ]
    }
   ],
   "source": [
    "#example 1 \n",
    "ShoesCost =  int(input(\"成本:\"))#輸入\n",
    "MarketPrice = int(input(\"價格:\"))#輸入\n",
    "Order = int(input(\"訂單:\"))#輸入\n",
    "\n",
    "ShoesProfit = (MarketPrice-ShoesCost)*Order#運算\n",
    "print(\"淨利:\",ShoesProfit)#顯示結果\n",
    "\n",
    "#int()轉整數\n",
    "#int(20) >>> 20 (無條件捨去)\n",
    "#input 輸入\n",
    "#print(\"___字串____\",數字) >>> ___字串___數字"
   ]
  },
  {
   "cell_type": "markdown",
   "metadata": {},
   "source": [
    "4. 變數的大小寫是不同的變數\n",
    "5. \" \" 和 ' ' 都代表字串(以 \" \" 為優先)\n",
    "6. 能夠寫成一行指令的語言都有個特色：結束符號(;)\n",
    "   沒有結束符號的程式語言就不能寫成一行"
   ]
  }
 ],
 "metadata": {
  "kernelspec": {
   "display_name": "Python 3",
   "language": "python",
   "name": "python3"
  },
  "language_info": {
   "codemirror_mode": {
    "name": "ipython",
    "version": 3
   },
   "file_extension": ".py",
   "mimetype": "text/x-python",
   "name": "python",
   "nbconvert_exporter": "python",
   "pygments_lexer": "ipython3",
   "version": "3.6.5"
  }
 },
 "nbformat": 4,
 "nbformat_minor": 2
}
